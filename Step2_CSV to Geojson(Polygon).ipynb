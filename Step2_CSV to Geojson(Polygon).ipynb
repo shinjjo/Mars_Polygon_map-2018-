{
 "cells": [
  {
   "cell_type": "code",
   "execution_count": 38,
   "metadata": {},
   "outputs": [
    {
     "data": {
      "text/plain": [
       "'\\n\\nMake two tables for Feature Information + Paper Information \\nAnd Relate two tables\\n\\n-1970\\n1970-1980\\n1980-1990\\n1990-2000\\n2000-2005\\n2005-2010\\n2010-2015\\n2015-2018\\n\\n\\n+ Add Queried date\\n\\n+ share polygon coordinate problem \\n\\n'"
      ]
     },
     "execution_count": 38,
     "metadata": {},
     "output_type": "execute_result"
    }
   ],
   "source": [
    "'''\n",
    "\n",
    "Make two tables for Feature Information + Paper Information \n",
    "And Relate two tables\n",
    "\n",
    "-1970\n",
    "1970-1980\n",
    "1980-1990\n",
    "1990-2000\n",
    "2000-2005\n",
    "2005-2010\n",
    "2010-2015\n",
    "2015-2018\n",
    "\n",
    "\n",
    "+ Add Queried date\n",
    "\n",
    "+ share polygon coordinate problem \n",
    "\n",
    "'''"
   ]
  },
  {
   "cell_type": "code",
   "execution_count": 39,
   "metadata": {},
   "outputs": [],
   "source": [
    "# Mars, Mercury, Moon, Venus"
   ]
  },
  {
   "cell_type": "code",
   "execution_count": 40,
   "metadata": {
    "collapsed": true
   },
   "outputs": [],
   "source": [
    "import pandas as pd\n",
    "import json\n",
    "import csv\n",
    "import numpy as np\n",
    "from datetime import date"
   ]
  },
  {
   "cell_type": "code",
   "execution_count": 58,
   "metadata": {
    "collapsed": true
   },
   "outputs": [],
   "source": [
    "data_frame = pd.read_csv('mercury_gaz.csv', index_col = False)"
   ]
  },
  {
   "cell_type": "code",
   "execution_count": 59,
   "metadata": {},
   "outputs": [
    {
     "data": {
      "text/plain": [
       "'\\nload gazeeteer data from csv \\nmars_gaz.csv\\nmoon_gaz.csv\\nvenus_gaz.csv\\nmercury_gaz.csv\\n'"
      ]
     },
     "execution_count": 59,
     "metadata": {},
     "output_type": "execute_result"
    }
   ],
   "source": [
    "'''\n",
    "load gazeeteer data from csv \n",
    "mars_gaz.csv\n",
    "moon_gaz.csv\n",
    "venus_gaz.csv\n",
    "mercury_gaz.csv\n",
    "'''"
   ]
  },
  {
   "cell_type": "code",
   "execution_count": 61,
   "metadata": {},
   "outputs": [],
   "source": [
    "data_frame = data_frame.drop(['Unnamed: 19'], axis=1)"
   ]
  },
  {
   "cell_type": "code",
   "execution_count": 62,
   "metadata": {},
   "outputs": [
    {
     "data": {
      "text/html": [
       "<div>\n",
       "<style scoped>\n",
       "    .dataframe tbody tr th:only-of-type {\n",
       "        vertical-align: middle;\n",
       "    }\n",
       "\n",
       "    .dataframe tbody tr th {\n",
       "        vertical-align: top;\n",
       "    }\n",
       "\n",
       "    .dataframe thead th {\n",
       "        text-align: right;\n",
       "    }\n",
       "</style>\n",
       "<table border=\"1\" class=\"dataframe\">\n",
       "  <thead>\n",
       "    <tr style=\"text-align: right;\">\n",
       "      <th></th>\n",
       "      <th>Feature_ID</th>\n",
       "      <th>Feature_Name</th>\n",
       "      <th>Clean_Feature_Name</th>\n",
       "      <th>Target</th>\n",
       "      <th>Diameter</th>\n",
       "      <th>Center_Latitude</th>\n",
       "      <th>Center_Longitude</th>\n",
       "      <th>Northern_Latitude</th>\n",
       "      <th>Southern_Latitude</th>\n",
       "      <th>Eastern_Longitude</th>\n",
       "      <th>Western_Longitude</th>\n",
       "      <th>Continent</th>\n",
       "      <th>Ethnicity</th>\n",
       "      <th>Feature_Type</th>\n",
       "      <th>Feature_Type_Code</th>\n",
       "      <th>Quad</th>\n",
       "      <th>Approval_Status</th>\n",
       "      <th>Approval_Date</th>\n",
       "      <th>Origin</th>\n",
       "    </tr>\n",
       "  </thead>\n",
       "  <tbody>\n",
       "    <tr>\n",
       "      <th>0</th>\n",
       "      <td>9</td>\n",
       "      <td>Abbe</td>\n",
       "      <td>Abbe</td>\n",
       "      <td>Moon</td>\n",
       "      <td>63.98</td>\n",
       "      <td>-57.58</td>\n",
       "      <td>174.77</td>\n",
       "      <td>-56.52</td>\n",
       "      <td>-58.63</td>\n",
       "      <td>176.74</td>\n",
       "      <td>172.81</td>\n",
       "      <td>Europe</td>\n",
       "      <td>Germany</td>\n",
       "      <td>Crater, craters</td>\n",
       "      <td>AA</td>\n",
       "      <td>LAC-132</td>\n",
       "      <td>Approved</td>\n",
       "      <td>1970</td>\n",
       "      <td>Ernst Karl; German optician, physicist, astron...</td>\n",
       "    </tr>\n",
       "    <tr>\n",
       "      <th>1</th>\n",
       "      <td>7027</td>\n",
       "      <td>Abbe H</td>\n",
       "      <td>Abbe H</td>\n",
       "      <td>Moon</td>\n",
       "      <td>25.13</td>\n",
       "      <td>-58.44</td>\n",
       "      <td>177.58</td>\n",
       "      <td>-58.03</td>\n",
       "      <td>-58.86</td>\n",
       "      <td>178.38</td>\n",
       "      <td>176.79</td>\n",
       "      <td>Europe</td>\n",
       "      <td>Germany</td>\n",
       "      <td>Satellite Feature</td>\n",
       "      <td>SF</td>\n",
       "      <td>LAC-132</td>\n",
       "      <td>Approved</td>\n",
       "      <td>2006</td>\n",
       "      <td>Ernst Karl; German optician, physicist, astron...</td>\n",
       "    </tr>\n",
       "    <tr>\n",
       "      <th>2</th>\n",
       "      <td>7028</td>\n",
       "      <td>Abbe K</td>\n",
       "      <td>Abbe K</td>\n",
       "      <td>Moon</td>\n",
       "      <td>26.10</td>\n",
       "      <td>-59.82</td>\n",
       "      <td>176.86</td>\n",
       "      <td>-59.39</td>\n",
       "      <td>-60.25</td>\n",
       "      <td>177.71</td>\n",
       "      <td>176.00</td>\n",
       "      <td>Europe</td>\n",
       "      <td>Germany</td>\n",
       "      <td>Satellite Feature</td>\n",
       "      <td>SF</td>\n",
       "      <td>LAC-132</td>\n",
       "      <td>Approved</td>\n",
       "      <td>2006</td>\n",
       "      <td>Ernst Karl; German optician, physicist, astron...</td>\n",
       "    </tr>\n",
       "    <tr>\n",
       "      <th>3</th>\n",
       "      <td>7029</td>\n",
       "      <td>Abbe M</td>\n",
       "      <td>Abbe M</td>\n",
       "      <td>Moon</td>\n",
       "      <td>28.61</td>\n",
       "      <td>-61.75</td>\n",
       "      <td>175.24</td>\n",
       "      <td>-61.27</td>\n",
       "      <td>-62.22</td>\n",
       "      <td>176.24</td>\n",
       "      <td>174.24</td>\n",
       "      <td>Europe</td>\n",
       "      <td>Germany</td>\n",
       "      <td>Satellite Feature</td>\n",
       "      <td>SF</td>\n",
       "      <td>LAC-132</td>\n",
       "      <td>Approved</td>\n",
       "      <td>2006</td>\n",
       "      <td>Ernst Karl; German optician, physicist, astron...</td>\n",
       "    </tr>\n",
       "    <tr>\n",
       "      <th>4</th>\n",
       "      <td>10</td>\n",
       "      <td>Abbot</td>\n",
       "      <td>Abbot</td>\n",
       "      <td>Moon</td>\n",
       "      <td>10.40</td>\n",
       "      <td>5.56</td>\n",
       "      <td>54.74</td>\n",
       "      <td>5.73</td>\n",
       "      <td>5.38</td>\n",
       "      <td>54.92</td>\n",
       "      <td>54.57</td>\n",
       "      <td>North America</td>\n",
       "      <td>American</td>\n",
       "      <td>Crater, craters</td>\n",
       "      <td>AA</td>\n",
       "      <td>LAC-62</td>\n",
       "      <td>Approved</td>\n",
       "      <td>1973</td>\n",
       "      <td>Charles Greeley; American astrophysicist (1872...</td>\n",
       "    </tr>\n",
       "  </tbody>\n",
       "</table>\n",
       "</div>"
      ],
      "text/plain": [
       "   Feature_ID Feature_Name Clean_Feature_Name Target  Diameter  \\\n",
       "0           9         Abbe               Abbe   Moon     63.98   \n",
       "1        7027       Abbe H             Abbe H   Moon     25.13   \n",
       "2        7028       Abbe K             Abbe K   Moon     26.10   \n",
       "3        7029       Abbe M             Abbe M   Moon     28.61   \n",
       "4          10        Abbot              Abbot   Moon     10.40   \n",
       "\n",
       "   Center_Latitude  Center_Longitude  Northern_Latitude  Southern_Latitude  \\\n",
       "0           -57.58            174.77             -56.52             -58.63   \n",
       "1           -58.44            177.58             -58.03             -58.86   \n",
       "2           -59.82            176.86             -59.39             -60.25   \n",
       "3           -61.75            175.24             -61.27             -62.22   \n",
       "4             5.56             54.74               5.73               5.38   \n",
       "\n",
       "   Eastern_Longitude  Western_Longitude      Continent Ethnicity  \\\n",
       "0             176.74             172.81         Europe   Germany   \n",
       "1             178.38             176.79         Europe   Germany   \n",
       "2             177.71             176.00         Europe   Germany   \n",
       "3             176.24             174.24         Europe   Germany   \n",
       "4              54.92              54.57  North America  American   \n",
       "\n",
       "        Feature_Type Feature_Type_Code     Quad Approval_Status Approval_Date  \\\n",
       "0    Crater, craters                AA  LAC-132        Approved          1970   \n",
       "1  Satellite Feature                SF  LAC-132        Approved          2006   \n",
       "2  Satellite Feature                SF  LAC-132        Approved          2006   \n",
       "3  Satellite Feature                SF  LAC-132        Approved          2006   \n",
       "4    Crater, craters                AA   LAC-62        Approved          1973   \n",
       "\n",
       "                                              Origin  \n",
       "0  Ernst Karl; German optician, physicist, astron...  \n",
       "1  Ernst Karl; German optician, physicist, astron...  \n",
       "2  Ernst Karl; German optician, physicist, astron...  \n",
       "3  Ernst Karl; German optician, physicist, astron...  \n",
       "4  Charles Greeley; American astrophysicist (1872...  "
      ]
     },
     "execution_count": 62,
     "metadata": {},
     "output_type": "execute_result"
    }
   ],
   "source": [
    "data_frame.head()"
   ]
  },
  {
   "cell_type": "code",
   "execution_count": 63,
   "metadata": {
    "collapsed": true
   },
   "outputs": [],
   "source": [
    "attr_feature = data_frame[['Feature_ID', 'Clean_Feature_Name', 'Target',\n",
    "       'Diameter', 'Center_Latitude', 'Center_Longitude', 'Northern_Latitude',\n",
    "       'Southern_Latitude', 'Eastern_Longitude', 'Western_Longitude',\n",
    "       'Continent', 'Ethnicity', 'Feature_Type', 'Feature_Type_Code', 'Quad','Approval_Status',\n",
    "       'Approval_Date', 'Origin']]"
   ]
  },
  {
   "cell_type": "code",
   "execution_count": 64,
   "metadata": {
    "collapsed": true
   },
   "outputs": [],
   "source": [
    "import time\n",
    "today = time.strftime(\"%d/%m/%Y\")\n",
    "query_date = []"
   ]
  },
  {
   "cell_type": "code",
   "execution_count": 65,
   "metadata": {
    "collapsed": true
   },
   "outputs": [],
   "source": [
    "# attr_feature['polygon'] = polygon"
   ]
  },
  {
   "cell_type": "code",
   "execution_count": 66,
   "metadata": {
    "collapsed": true
   },
   "outputs": [],
   "source": [
    "#Creating pandas dataframe to csv\n",
    "# attr_feature.to_csv(\"mars_gaz_no_polygon\", sep=',', header=True, index=False, encoding='utf-8')"
   ]
  },
  {
   "cell_type": "code",
   "execution_count": 67,
   "metadata": {
    "collapsed": true
   },
   "outputs": [],
   "source": [
    "# attr_feature = attr_feature.drop('polygon', 1)"
   ]
  },
  {
   "cell_type": "code",
   "execution_count": 68,
   "metadata": {
    "collapsed": true
   },
   "outputs": [],
   "source": [
    "#Creating geojson\n",
    "json_result_string = attr_feature.to_json(\n",
    "    orient = 'records',\n",
    "    double_precision=12,\n",
    "    date_format='iso'\n",
    ")"
   ]
  },
  {
   "cell_type": "code",
   "execution_count": 69,
   "metadata": {
    "collapsed": true
   },
   "outputs": [
    {
     "data": {
      "text/plain": [
       "\"\\njson_coord_string = polygon.to_json(\\n    orient = 'records',\\n    double_precision=12,\\n    date_format='iso'\\n)\\n\""
      ]
     },
     "execution_count": 69,
     "metadata": {},
     "output_type": "execute_result"
    }
   ],
   "source": [
    "'''\n",
    "json_coord_string = polygon.to_json(\n",
    "    orient = 'records',\n",
    "    double_precision=12,\n",
    "    date_format='iso'\n",
    ")\n",
    "'''"
   ]
  },
  {
   "cell_type": "code",
   "execution_count": 70,
   "metadata": {
    "collapsed": true
   },
   "outputs": [],
   "source": [
    "json_result = json.loads(json_result_string)\n",
    "# json_coords = json.loads(json_coord_string)"
   ]
  },
  {
   "cell_type": "code",
   "execution_count": 71,
   "metadata": {
    "collapsed": true
   },
   "outputs": [],
   "source": [
    "geojson = {\n",
    "    'type': 'FeatureCollection',\n",
    "    'features': []\n",
    "}"
   ]
  },
  {
   "cell_type": "code",
   "execution_count": 72,
   "metadata": {},
   "outputs": [],
   "source": [
    "for record in json_result:\n",
    "    geojson['features'].append({\n",
    "        'type': 'Feature',\n",
    "        'properties': record,\n",
    "    })"
   ]
  },
  {
   "cell_type": "code",
   "execution_count": 73,
   "metadata": {
    "collapsed": true
   },
   "outputs": [
    {
     "data": {
      "text/plain": [
       "\"\\nfor poly, record in zip(json_coords, json_result):\\n    geojson['features'].append({\\n        'type': 'Feature',\\n        'geometry': {\\n            'type': 'Polygon',\\n            'coordinates': poly,\\n        },\\n        'properties': record,\\n    })\\n\""
      ]
     },
     "execution_count": 73,
     "metadata": {},
     "output_type": "execute_result"
    }
   ],
   "source": [
    "'''\n",
    "for poly, record in zip(json_coords, json_result):\n",
    "    geojson['features'].append({\n",
    "        'type': 'Feature',\n",
    "        'geometry': {\n",
    "            'type': 'Polygon',\n",
    "            'coordinates': poly,\n",
    "        },\n",
    "        'properties': record,\n",
    "    })\n",
    "'''"
   ]
  },
  {
   "cell_type": "code",
   "execution_count": 74,
   "metadata": {
    "collapsed": true
   },
   "outputs": [],
   "source": [
    "with open('mercury_merge.json', 'w', encoding = 'utf-8') as f:\n",
    "    f.write(json.dumps(geojson, indent = 2, ensure_ascii=False))"
   ]
  },
  {
   "cell_type": "code",
   "execution_count": null,
   "metadata": {
    "collapsed": true
   },
   "outputs": [],
   "source": [
    "'''\n",
    "Save csv as json \n",
    "mars_merge.json\n",
    "moon_merge.json\n",
    "venus_merge.json\n",
    "mercury_merge.json\n",
    "'''"
   ]
  }
 ],
 "metadata": {
  "kernelspec": {
   "display_name": "Python 3",
   "language": "python",
   "name": "python3"
  },
  "language_info": {
   "codemirror_mode": {
    "name": "ipython",
    "version": 3
   },
   "file_extension": ".py",
   "mimetype": "text/x-python",
   "name": "python",
   "nbconvert_exporter": "python",
   "pygments_lexer": "ipython3",
   "version": "3.6.4"
  }
 },
 "nbformat": 4,
 "nbformat_minor": 2
}
